{
 "cells": [
  {
   "cell_type": "code",
   "execution_count": 40,
   "metadata": {},
   "outputs": [],
   "source": [
    "from openai import OpenAI\n",
    "client = OpenAI()\n",
    "from time import sleep\n",
    "from flask import jsonify"
   ]
  },
  {
   "cell_type": "code",
   "execution_count": 61,
   "metadata": {},
   "outputs": [
    {
     "name": "stdout",
     "output_type": "stream",
     "text": [
      "Starting a new conversation...\n",
      "New thread created with ID: thread_cVS5fiLLgndPiBKCPmJoWhoJ\n"
     ]
    }
   ],
   "source": [
    "\n",
    "def start_conversation():\n",
    "  print(\"Starting a new conversation...\")  # Debugging line\n",
    "  thread = client.beta.threads.create()\n",
    "  print(f\"New thread created with ID: {thread.id}\") \n",
    "  return thread.id\n",
    "\n",
    "\n",
    "thread_id = start_conversation()"
   ]
  },
  {
   "cell_type": "code",
   "execution_count": 62,
   "metadata": {},
   "outputs": [],
   "source": [
    "rag_url = \"https://matsudqa-d5d676aa588f.herokuapp.com/api/search\"\n",
    "\n",
    "import requests\n",
    "\n",
    "prompt = \"hi\"\n",
    "\n",
    "r = requests.get(url = rag_url, params = {'q' : prompt})\n",
    "\n",
    "context = r.json()['result']"
   ]
  },
  {
   "cell_type": "code",
   "execution_count": 65,
   "metadata": {},
   "outputs": [
    {
     "ename": "SyntaxError",
     "evalue": "keyword argument repeated: content (2676104279.py, line 19)",
     "output_type": "error",
     "traceback": [
      "\u001b[0;36m  Cell \u001b[0;32mIn[65], line 19\u001b[0;36m\u001b[0m\n\u001b[0;31m    content=context)\u001b[0m\n\u001b[0m    ^\u001b[0m\n\u001b[0;31mSyntaxError\u001b[0m\u001b[0;31m:\u001b[0m keyword argument repeated: content\n"
     ]
    }
   ],
   "source": [
    "# Create new assistant or load existing\n",
    "assistant_id = \"asst_4FNnMt1iq7mKZtOniAC00Pa6\"\n",
    "\n",
    "def chat(context, prompt, thread_id):\n",
    "  thread_id = thread_id\n",
    "\n",
    "\n",
    "  if not thread_id:\n",
    "    print(\"Error: Missing thread_id\")  # Debugging line\n",
    "    return jsonify({\"error\": \"Missing thread_id\"}), 400\n",
    "\n",
    "  print(f\"Received message: {prompt} for thread ID: {thread_id}\"\n",
    "        )  # Debugging line\n",
    "\n",
    "  # Add the user's message to the thread\n",
    "  client.beta.threads.messages.create(thread_id=thread_id,\n",
    "                                      role=\"user\",\n",
    "                                      )\n",
    "\n",
    "  # Run the Assistant\n",
    "  run = client.beta.threads.runs.create(thread_id=thread_id,\n",
    "                                        assistant_id=assistant_id)\n",
    "\n",
    "  # Check if the Run requires action (function call)\n",
    "  while True:\n",
    "    run_status = client.beta.threads.runs.retrieve(thread_id=thread_id,\n",
    "                                                   run_id=run.id)\n",
    "    print(f\"Run status: {run_status.status}\")\n",
    "    if run_status.status == 'completed':\n",
    "      break\n",
    "    sleep(1)  # Wait for a second before checking again\n",
    "\n",
    "  # Retrieve and return the latest message from the assistant\n",
    "  messages = client.beta.threads.messages.list(thread_id=thread_id)\n",
    "  response = messages.data[0].content[0].text.value\n",
    "\n",
    "  print(f\"Assistant response: {response}\")  # Debugging line"
   ]
  },
  {
   "cell_type": "code",
   "execution_count": 56,
   "metadata": {},
   "outputs": [
    {
     "name": "stdout",
     "output_type": "stream",
     "text": [
      "Customers can connect with their local branch if the requirement is higher than the offered loan amount. There will be an additional set of documents that will be required for processing the case for a higher loan amount for which the branch staff will guide you. Loan amount will be subject to eligibility as per documents. How long will it take for my Business loan to be processed? Loan processing and disbursement will take at least 7 working days post submission of all requisite documents and information as may be required by the Bank as per Bank's criteria. All loan approvals are at the sole discretion of the bank. ​​​​​​​ false ​​​​​​​​​​​​​​ ​​​​​​​ Manage Your Loan Loan Restructuring FAQs Balance Transfer Calculator View More View Less Login Know More Types of Business Loan Business Loan to Manufacturers Business Loan to Traders Loans to self-employed Business Loan to CA Business Loan for Doctors Business Loan for Women View More View Less Login Know More Tools & Calculator Business Loan Calculator Loan Evaluator Calculator Loan For Professionals - EMI Calculator Active Lending Service Providers List Digital Lending Apps/ Platforms (DLAs) View More View Less Login Know More Nurturing your online business in the current economy Video\n",
      "Loans will be disbursed based on previous repayment of Home Loans, Auto Loans and Credit Cards. Flexible Tenure Flexible Tenure You can repay your loan over a period of 12 to 48 months. Credit insurance plan protects my family from the debt Convenient Borrowing Convenient Borrowing For any help with your loan, you can reach out to us via WhatsApp , Webchat, and PhoneBanking Stay Protected Stay Protected Take care of your loved ones by paying a nominal premium* and covering your loan with our Credit Protect Protects the family by paying off the loan amount in case of death of the customer Life coverage – provides peace of mind No need to use other savings to repay the loan Tax benefits as per applicable laws One convenient package - loan + insurance The premium for this product will be deducted from the loan amount at the time of disbursal, after levying service taxes and applicable surcharge/cess at the rates notified by the government In case of natural/accidental death of the customer, the customer/nominee can avail of the Payment Protection Insurance (Credit Protect), which insures the principle outstanding on the loan up to a maximum of the loan amount. *Terms & Conditions of the insurers shall apply. The above product is offered by HDFC Life Ins Co. Ltd. ELIGIBILITY FEES & CHARGES DOCUMENTATION TERMS & CONDITIONS Business Loan FAQs How is Business Loan interest rate calculated? HDFC bank offers the lowest interest rates in the market across all segments. As we offer customers an unsecured loan i.e. collateral-free loan, the rate of Interest will be higher as compared to secured products offered by banks. How is Business Loan processing fee calculated? Processing fees are restricted to 2% + GST which is standard across all the products. Is there any stamp duty applicable for taking pre-approved Business Loan? Stamp duty collection is mandatory for pre-approved offers as well. Also, the customers must note that stamp duty charges are different for different states. What are the steps for foreclosing a Business Loan? Please have a service request registered with regard to Business Loan foreclosure. Click here to raise an online token for the same. Alternatively, customer can visit Retail Loan Service Centre at his nearest Location What if I need a higher amount of loan amount as compared to my pre-approved offer loan? Customers can connect with their local branch if the requirement is higher than the offered loan amount.\n",
      "What is the max loan size i can borrow\n"
     ]
    }
   ],
   "source": [
    "# extracting data in json format\n",
    "context = r.json()['result']\n",
    "\n",
    "print(context)\n",
    "print(prompt)\n"
   ]
  },
  {
   "cell_type": "code",
   "execution_count": 60,
   "metadata": {},
   "outputs": [
    {
     "name": "stdout",
     "output_type": "stream",
     "text": [
      "Received message: ok great for thread ID: thread_R88vU4jkIuP15GaezJuKXpHf\n",
      "Run status: in_progress\n",
      "Run status: in_progress\n",
      "Run status: completed\n",
      "Assistant response: What is the purpose of the loan?\n"
     ]
    }
   ],
   "source": [
    "chat(context, prompt, thread_id)"
   ]
  },
  {
   "cell_type": "code",
   "execution_count": 34,
   "metadata": {},
   "outputs": [
    {
     "name": "stdout",
     "output_type": "stream",
     "text": [
      "The maximum loan size available for women through HDFC Bank is up to Rs. 75 lakh.\n"
     ]
    }
   ],
   "source": [
    "\n",
    "\n",
    "\n",
    "# completion = client.chat.completions.create(\n",
    "#   model=\"gpt-3.5-turbo\",\n",
    "#   messages=[\n",
    "#     {\"role\": \"system\", \"content\": f\"Answer the following question using the provided context and the information that the user has provided so far. If you can't find the answer, do not pretend you know it, but answer I don't know Context: {context}\"},\n",
    "\n",
    "#     {\"role\": \"user\", \"content\": prompt}\n",
    "#   ]\n",
    "# )\n",
    "\n",
    "# print(completion.choices[0].message.content)\n",
    "\n"
   ]
  },
  {
   "cell_type": "code",
   "execution_count": null,
   "metadata": {},
   "outputs": [],
   "source": []
  }
 ],
 "metadata": {
  "kernelspec": {
   "display_name": "Python 3",
   "language": "python",
   "name": "python3"
  },
  "language_info": {
   "codemirror_mode": {
    "name": "ipython",
    "version": 3
   },
   "file_extension": ".py",
   "mimetype": "text/x-python",
   "name": "python",
   "nbconvert_exporter": "python",
   "pygments_lexer": "ipython3",
   "version": "3.11.6"
  }
 },
 "nbformat": 4,
 "nbformat_minor": 2
}
